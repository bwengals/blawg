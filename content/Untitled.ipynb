{
 "cells": [
  {
   "cell_type": "markdown",
   "metadata": {},
   "source": [
    "## matrix ops\n",
    "\n",
    "\n",
    "Need det, solve, MatVec, and MatMat product for each of these.  \n",
    "\n",
    "- symmetric: Use cholesky decomposition.  upper/lower triangular solves, compute det from L \n",
    "- toeplitz: \n",
    "  - levinson recursion for solve O(n^2)\n",
    "  - embed into circulant, solves with preconditioned conjugate gradients\n",
    "  - cited other refs for determinant calculation\n",
    "- kronecker: use multiple of symmetric\n",
    "- kronecker with noise: multiple of eigh \n",
    "- hodlr: solve method given, determinant is a side effect?\n",
    "  - single threaded????\n",
    "- large: conjugate gradient based solves.. iterative eigenvalue method?\n",
    "- banded (rybecki-press)?\n",
    "\n",
    "## Cov functions\n",
    "\n",
    "- sparse / truncated\n",
    "- changepoint\n",
    "- gibbs with matern\n",
    "- for discrete data\n",
    "- brownian motion\n",
    "- white noise\n",
    "- diagonals\n",
    "\n",
    "## methods\n",
    "- kernel interpolation\n",
    "- non gaussian likeihoods (\"pure\" gp)\n",
    "- non gaussian likelihoods with inducing variables\n",
    "- gp that works with minibatch training (\"big data gp\")\n",
    "\n",
    "## design\n",
    "- what to put in theano, vs pymc3.  all should start as pymc3 ops, like cholesky\n",
    "- \"Solver\" class.  maybe gps are specific enough to have this abstraction over the linear algebra\n",
    "  - logdet\n",
    "  - solve\n",
    "  - MatVec\n",
    "  - MatMat\n",
    "- using transforms vs. a super custom distribution class\n",
    "- speed test kernels\n",
    "\n",
    "## TODO\n",
    "- blog post about FITC and implementation, examples\n",
    "- ask about how to use code from other projects?\n",
    "- pick an issue to tackle\n",
    "- search conversation for \"soft_switch\" in slack"
   ]
  },
  {
   "cell_type": "code",
   "execution_count": null,
   "metadata": {
    "collapsed": true
   },
   "outputs": [],
   "source": []
  }
 ],
 "metadata": {
  "kernelspec": {
   "display_name": "Python [default]",
   "language": "python",
   "name": "python3"
  },
  "language_info": {
   "codemirror_mode": {
    "name": "ipython",
    "version": 3
   },
   "file_extension": ".py",
   "mimetype": "text/x-python",
   "name": "python",
   "nbconvert_exporter": "python",
   "pygments_lexer": "ipython3",
   "version": "3.5.2"
  }
 },
 "nbformat": 4,
 "nbformat_minor": 2
}
