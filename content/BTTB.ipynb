{
 "cells": [
  {
   "cell_type": "code",
   "execution_count": 1,
   "metadata": {
    "collapsed": true
   },
   "outputs": [],
   "source": [
    "import numpy as np\n",
    "import scipy as sp\n",
    "import scipy.linalg\n",
    "import scipy.sparse.linalg\n",
    "\n",
    "import theano\n",
    "import theano.tensor as tt\n",
    "\n",
    "import sys\n",
    "sys.path.insert(0, \"/home/bill/pymc3/\")\n",
    "import pymc3 as pm\n",
    "\n",
    "import matplotlib.pyplot as plt\n",
    "%matplotlib inline"
   ]
  },
  {
   "cell_type": "markdown",
   "metadata": {},
   "source": [
    "# Embedding a Toeplitz matrix into a Circulant Matrix\n",
    "\n",
    "The following covariance matrix is Toeplitz.  It is stationary, and evaluated on a regularly spaced grid."
   ]
  },
  {
   "cell_type": "code",
   "execution_count": 2,
   "metadata": {
    "collapsed": false
   },
   "outputs": [
    {
     "data": {
      "image/png": "[encoded data removed]",
      "text/plain": [
       "<matplotlib.figure.Figure at 0x7f6e5ef41b38>"
      ]
     },
     "metadata": {},
     "output_type": "display_data"
    }
   ],
   "source": [
    "X = np.linspace(0,1,10)[:,None]\n",
    "K = theano.function([], pm.gp.cov.Matern52(1, 0.3)(X) )()\n",
    "plt.imshow(K);"
   ]
  },
  {
   "cell_type": "code",
   "execution_count": 3,
   "metadata": {
    "collapsed": true
   },
   "outputs": [],
   "source": [
    "def embed_circulant(T):\n",
    "    \"\"\" Given an m x m toeplitz matrix T into an M x M circulant matrix C\n",
    "        c = (t_0, t_1, ..., t_{m - 1}, 0, 0, ..., 0, 0, t_{-(m-1)}, t_{-(m-2)}, ..., t_{-1})\n",
    "        M = 2^ℓ is the smallest power of 2 such that M >= 2m - 1\n",
    "        M - (2m - 1) zeros\n",
    "    \"\"\"\n",
    "    c1 = T[:, 0]\n",
    "    r1 = T[0, 1:]\n",
    "    m = T.shape[0]\n",
    "    # shift bit length\n",
    "    M = 1<<((2*m - 1) - 1).bit_length()\n",
    "    return np.concatenate((c1, np.zeros(M - (2*m - 1)), r1), axis=0)\n",
    "\n",
    "def Mv_Toeplitz(T, x):\n",
    "    \"\"\" 1. Embed Toeplitz matrix into circulant\n",
    "    - Given an m x m toeplitz matrix T into an M x M circulant matrix C\n",
    "    - c = (t_0, t_1, ..., t_{m - 1}, 0, 0, ..., 0, 0, t_{-(m-1)}, t_{-(m-2)}, ..., t_{-1})\n",
    "    - M = 2^ℓ is the smallest power of 2 such that M >= 2m - 1\n",
    "    - M - (2m - 1) zeros\n",
    "    \"\"\"\n",
    "    c1 = T[:, 0]\n",
    "    r1 = T[0, 1:][::-1]\n",
    "    m = T.shape[0]\n",
    "    # shift bit length\n",
    "    M = 1<<((2*m - 1) - 1).bit_length()\n",
    "    c = np.concatenate((c1, np.zeros(M - (2*m - 1)), r1), axis=0)\n",
    "    \n",
    "    \"\"\" 2. Do Matrix-vector multiplication with x\n",
    "    - Pad x with (M - m) zeros\n",
    "    \"\"\"\n",
    "    xp = np.concatenate((x, np.zeros(M - m)))\n",
    "    return np.real(np.fft.ifft(np.fft.fft(c) * np.fft.fft(xp))[:m])\n",
    "\n"
   ]
  },
  {
   "cell_type": "code",
   "execution_count": 4,
   "metadata": {
    "collapsed": false
   },
   "outputs": [
    {
     "name": "stdout",
     "output_type": "stream",
     "text": [
      "[-2.55443208 -2.84657295 -2.80467602 -2.58839028 -2.42628018 -2.46007151\n",
      " -2.63232527 -2.77130517 -2.72415625 -2.44667033]\n",
      "[-2.55443208 -2.84657295 -2.80467602 -2.58839028 -2.42628018 -2.46007151\n",
      " -2.63232527 -2.77130517 -2.72415625 -2.44667033]\n"
     ]
    }
   ],
   "source": [
    "x = np.random.randn(10)\n",
    "b = Mv_Toeplitz(K, x)\n",
    "\n",
    "#print(b)\n",
    "print(np.dot(K, x))\n",
    "print(np.real(b))\n"
   ]
  },
  {
   "cell_type": "code",
   "execution_count": 5,
   "metadata": {
    "collapsed": true
   },
   "outputs": [],
   "source": [
    "\n",
    "class ToeplitzLinearOperator(sp.sparse.linalg.LinearOperator):\n",
    "    def __init__(self, A):\n",
    "        super(ToeplitzLinearOperator, self).__init__(A.dtype, A.shape)\n",
    "        self.A = A\n",
    "        self.__adj = None\n",
    "        self.args = (A,)\n",
    "\n",
    "    def _matvec(self, x):\n",
    "        # matrix-vector multiplication handler.\n",
    "        return Mv_Toeplitz(self.A, x)    \n",
    "    "
   ]
  },
  {
   "cell_type": "code",
   "execution_count": 6,
   "metadata": {
    "collapsed": false
   },
   "outputs": [
    {
     "name": "stdout",
     "output_type": "stream",
     "text": [
      "(10, 10)\n"
     ]
    }
   ],
   "source": [
    "T = ToeplitzLinearOperator(K)\n",
    "print(K.shape)"
   ]
  },
  {
   "cell_type": "code",
   "execution_count": 7,
   "metadata": {
    "collapsed": false
   },
   "outputs": [
    {
     "data": {
      "text/plain": [
       "array([-2.55443208, -2.84657295, -2.80467602, -2.58839028, -2.42628018,\n",
       "       -2.46007151, -2.63232527, -2.77130517, -2.72415625, -2.44667033])"
      ]
     },
     "execution_count": 7,
     "metadata": {},
     "output_type": "execute_result"
    }
   ],
   "source": [
    "T.matvec(x)"
   ]
  },
  {
   "cell_type": "code",
   "execution_count": 36,
   "metadata": {
    "collapsed": false
   },
   "outputs": [
    {
     "name": "stdout",
     "output_type": "stream",
     "text": [
      "1000 loops, best of 3: 400 µs per loop\n",
      "1000 loops, best of 3: 421 µs per loop\n"
     ]
    }
   ],
   "source": [
    "n = 120\n",
    "X = np.linspace(0,1,n)[:,None]\n",
    "b = 1e-3 * np.random.randn(n)\n",
    "K = theano.function([], pm.gp.cov.Matern52(1, 0.3)(X) + 1e-8 * tt.eye(n) )()\n",
    "T = ToeplitzLinearOperator(K)\n",
    "\n",
    "#%timeit np.dot(K, b)\n",
    "#%timeit Mv_Toeplitz(K, b)\n",
    "\n",
    "M = sp.linalg.solve(K, np.eye(n))\n",
    "\n",
    "%timeit sp.sparse.linalg.cg(T, b, M=M)\n",
    "%timeit np.linalg.solve(K, b)\n",
    "#print(np.dot(sp.sparse.linalg.cg(T, b, M=M)[0], b))\n",
    "#print(np.dot(np.linalg.solve(K, b), b))"
   ]
  },
  {
   "cell_type": "code",
   "execution_count": 20,
   "metadata": {
    "collapsed": false
   },
   "outputs": [
    {
     "data": {
      "text/plain": [
       "array([[  1.84702128e+10,  -6.37506742e+10,   8.44564175e+10, ...,\n",
       "         -5.61183889e+04,  -4.96936987e+03,  -2.69948555e+03],\n",
       "       [ -6.37508991e+10,   2.38508840e+11,  -3.55255827e+11, ...,\n",
       "          4.37743878e+05,  -7.09479061e+04,   3.76798488e+04],\n",
       "       [  8.44578101e+10,  -3.55260109e+11,   6.24697436e+11, ...,\n",
       "         -1.86787144e+06,   6.76312102e+05,  -2.16622525e+05],\n",
       "       ..., \n",
       "       [ -6.95947210e+03,   2.14779492e+05,  -1.43504371e+06, ...,\n",
       "          6.29005487e+11,  -3.57519741e+11,   8.49651331e+10],\n",
       "       [  1.37718709e+04,  -1.66671755e+05,   9.13732583e+05, ...,\n",
       "         -3.57502212e+11,   2.39688468e+11,  -6.40158327e+10],\n",
       "       [ -4.42168964e+03,   4.34203965e+04,  -2.21744088e+05, ...,\n",
       "          8.49659476e+10,  -6.40185836e+10,   1.85303757e+10]])"
      ]
     },
     "execution_count": 20,
     "metadata": {},
     "output_type": "execute_result"
    }
   ],
   "source": [
    "sp.linalg.solve(K, np.eye(n))"
   ]
  },
  {
   "cell_type": "code",
   "execution_count": null,
   "metadata": {
    "collapsed": true
   },
   "outputs": [],
   "source": []
  }
 ],
 "metadata": {
  "kernelspec": {
   "display_name": "Python [default]",
   "language": "python",
   "name": "python3"
  },
  "language_info": {
   "codemirror_mode": {
    "name": "ipython",
    "version": 3
   },
   "file_extension": ".py",
   "mimetype": "text/x-python",
   "name": "python",
   "nbconvert_exporter": "python",
   "pygments_lexer": "ipython3",
   "version": "3.5.2"
  }
 },
 "nbformat": 4,
 "nbformat_minor": 2
}
