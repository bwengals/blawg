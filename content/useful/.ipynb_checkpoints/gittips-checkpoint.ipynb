{
 "cells": [
  {
   "cell_type": "markdown",
   "metadata": {},
   "source": [
    "# Git tips\n",
    "\n",
    "## Checking out someone elses PR\n",
    "\n",
    "Check if the remote has been set properly:\n",
    "```shell\n",
    "git remote -v\n",
    "```"
   ]
  },
  {
   "cell_type": "markdown",
   "metadata": {},
   "source": [
    "```\n",
    "origin  git@github.com:bwengals/pymc3.git (fetch)\n",
    "origin  git@github.com:bwengals/pymc3.git (push)\n",
    "pymc3   git@github.com:pymc-devs/pymc3.git (fetch)\n",
    "pymc3   git@github.com:pymc-devs/pymc3.git (push)\n",
    "```"
   ]
  },
  {
   "cell_type": "markdown",
   "metadata": {},
   "source": [
    "Pull `master`, since that is where the PR is heading\n",
    "```shell\n",
    "git pull pymc3\n",
    "```\n",
    "\n",
    "The PR goes to `pymc3` repo, not my `origin`.  So fetch a specific commit:\n",
    "```shell\n",
    "git fetch pymc3 refs/pull/666/head %the devils PR \n",
    "```\n",
    "\n",
    "Place this into new temporary branch for testing\n",
    "```shell\n",
    "git checkout -b tmpbranch FETCH_HEAD \n",
    "```\n",
    "\n",
    "Delete `tmpbranch` when done\n",
    "```shell\n",
    "git branch -D tmpbranch\n",
    "```"
   ]
  },
  {
   "cell_type": "code",
   "execution_count": null,
   "metadata": {
    "collapsed": true
   },
   "outputs": [],
   "source": []
  }
 ],
 "metadata": {
  "anaconda-cloud": {},
  "kernelspec": {
   "display_name": "Python [default]",
   "language": "python",
   "name": "python3"
  },
  "language_info": {
   "codemirror_mode": {
    "name": "ipython",
    "version": 3
   },
   "file_extension": ".py",
   "mimetype": "text/x-python",
   "name": "python",
   "nbconvert_exporter": "python",
   "pygments_lexer": "ipython3",
   "version": "3.5.3"
  }
 },
 "nbformat": 4,
 "nbformat_minor": 2
}
