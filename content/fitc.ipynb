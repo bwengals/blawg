{
 "cells": [
  {
   "cell_type": "markdown",
   "metadata": {},
   "source": [
    "# Design Plan\n",
    "\n",
    "- Like in GPML, try to have unified GP interface\n",
    "  - Factory construct for GP\n",
    "- build in support for non-white noise for gaussian likelihoods\n",
    "\n",
    "## Priorities\n",
    "\n",
    "- Understand GPFlow approximations\n",
    "- HODLR solver (Theano Op)\n",
    "- Grid, MatrixNormal\n",
    "- Incomplete Grid\n",
    "- Toeplitz / Circulant (Theano Op)\n",
    "\n",
    "\n"
   ]
  },
  {
   "cell_type": "markdown",
   "metadata": {},
   "source": [
    "# The FITC Approximation"
   ]
  },
  {
   "cell_type": "code",
   "execution_count": null,
   "metadata": {
    "collapsed": true
   },
   "outputs": [],
   "source": []
  }
 ],
 "metadata": {
  "kernelspec": {
   "display_name": "Python [default]",
   "language": "python",
   "name": "python3"
  },
  "language_info": {
   "codemirror_mode": {
    "name": "ipython",
    "version": 3
   },
   "file_extension": ".py",
   "mimetype": "text/x-python",
   "name": "python",
   "nbconvert_exporter": "python",
   "pygments_lexer": "ipython3",
   "version": "3.5.2"
  }
 },
 "nbformat": 4,
 "nbformat_minor": 2
}
